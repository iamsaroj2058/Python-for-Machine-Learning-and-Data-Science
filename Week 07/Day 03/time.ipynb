{
 "cells": [
  {
   "cell_type": "markdown",
   "metadata": {},
   "source": [
    "# HOw to find time complexity of python for loop?"
   ]
  },
  {
   "cell_type": "code",
   "execution_count": 4,
   "metadata": {},
   "outputs": [
    {
     "name": "stdout",
     "output_type": "stream",
     "text": [
      "For n = 10, number of iterations: 10\n",
      "For n = 100, number of iterations: 100\n",
      "For n = 1000, number of iterations: 1000\n"
     ]
    }
   ],
   "source": [
    "def time_complexity(n):\n",
    "    p = 1\n",
    "    count = 0\n",
    "    for i in range(1, n + 1):\n",
    "        p = p + 1\n",
    "        count += 1\n",
    "    return count\n",
    "\n",
    "# Test the function with different values of n\n",
    "n_values = [10, 100, 1000]\n",
    "for n in n_values:\n",
    "    iterations = time_complexity(n)\n",
    "    print(f\"For n = {n}, number of iterations: {iterations}\")\n",
    "\n"
   ]
  }
 ],
 "metadata": {
  "kernelspec": {
   "display_name": "venv",
   "language": "python",
   "name": "python3"
  },
  "language_info": {
   "codemirror_mode": {
    "name": "ipython",
    "version": 3
   },
   "file_extension": ".py",
   "mimetype": "text/x-python",
   "name": "python",
   "nbconvert_exporter": "python",
   "pygments_lexer": "ipython3",
   "version": "3.11.5"
  }
 },
 "nbformat": 4,
 "nbformat_minor": 2
}
