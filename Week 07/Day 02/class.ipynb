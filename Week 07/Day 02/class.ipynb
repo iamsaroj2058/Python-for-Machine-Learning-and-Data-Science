{
 "cells": [
  {
   "cell_type": "code",
   "execution_count": null,
   "metadata": {},
   "outputs": [],
   "source": []
  },
  {
   "cell_type": "markdown",
   "metadata": {},
   "source": [
    "# Regression -> R square.\n",
    "# Adjusted R Square.\n"
   ]
  },
  {
   "cell_type": "code",
   "execution_count": 1,
   "metadata": {},
   "outputs": [
    {
     "name": "stdout",
     "output_type": "stream",
     "text": [
      "R-squared: -41.065226912498474\n"
     ]
    }
   ],
   "source": [
    "import numpy as np\n",
    "\n",
    "# Example data\n",
    "X = np.array([\n",
    "    [1, 50, 30],  # Example of multiple independent variables\n",
    "    [1, 60, 35],\n",
    "    [1, 70, 40],\n",
    "    [1, 80, 45],\n",
    "    [1, 90, 50]\n",
    "])  # Added a constant term (1s) for the intercept\n",
    "\n",
    "y = np.array([200, 240, 280, 320, 360])  # Dependent variable\n",
    "\n",
    "# Calculate the coefficients\n",
    "coefficients = np.linalg.inv(X.T @ X) @ X.T @ y\n",
    "\n",
    "# Predict your values\n",
    "y_pred = X @ coefficients\n",
    "\n",
    "# Calculate SS_residual and SS_total\n",
    "SS_residual = np.sum((y - y_pred) ** 2)\n",
    "SS_total = np.sum((y - np.mean(y)) ** 2)\n",
    "\n",
    "# Calculate R-squared\n",
    "R_squared = 1 - (SS_residual / SS_total)\n",
    "\n",
    "print(\"R-squared:\", R_squared)"
   ]
  }
 ],
 "metadata": {
  "kernelspec": {
   "display_name": "venv",
   "language": "python",
   "name": "python3"
  },
  "language_info": {
   "codemirror_mode": {
    "name": "ipython",
    "version": 3
   },
   "file_extension": ".py",
   "mimetype": "text/x-python",
   "name": "python",
   "nbconvert_exporter": "python",
   "pygments_lexer": "ipython3",
   "version": "3.11.5"
  }
 },
 "nbformat": 4,
 "nbformat_minor": 2
}
