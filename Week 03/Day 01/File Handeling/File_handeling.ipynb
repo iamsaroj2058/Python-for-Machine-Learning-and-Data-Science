{
 "cells": [
  {
   "cell_type": "code",
   "execution_count": 4,
   "metadata": {},
   "outputs": [
    {
     "name": "stdout",
     "output_type": "stream",
     "text": [
      "Hi  I am learnig Python\n",
      "Pythone is an  awesome language"
     ]
    }
   ],
   "source": [
    "!cat demo.txt"
   ]
  },
  {
   "cell_type": "code",
   "execution_count": 6,
   "metadata": {},
   "outputs": [
    {
     "name": "stdout",
     "output_type": "stream",
     "text": [
      "<class '_io.TextIOWrapper'>\n"
     ]
    }
   ],
   "source": [
    "filename = \"demo.txt\"\n",
    "file_obj = open('demo.txt','r')\n",
    "\n",
    "print(type(file_obj))"
   ]
  },
  {
   "cell_type": "code",
   "execution_count": 7,
   "metadata": {},
   "outputs": [
    {
     "name": "stdout",
     "output_type": "stream",
     "text": [
      "<class '_io.TextIOWrapper'>\n"
     ]
    }
   ],
   "source": [
    "# For write\n",
    "\n",
    "filename = \"demo.txt\"\n",
    "file_obj = open('demo.txt','w')\n",
    "\n",
    "print(type(file_obj))"
   ]
  },
  {
   "cell_type": "code",
   "execution_count": 10,
   "metadata": {},
   "outputs": [
    {
     "name": "stdout",
     "output_type": "stream",
     "text": [
      "<class '_io.TextIOWrapper'>\n"
     ]
    }
   ],
   "source": [
    "# For append\n",
    "filename = \"demo.txt\"\n",
    "file_obj = open('demo.txt','a')\n",
    "\n",
    "print(type(file_obj))"
   ]
  },
  {
   "cell_type": "code",
   "execution_count": 13,
   "metadata": {},
   "outputs": [
    {
     "name": "stdout",
     "output_type": "stream",
     "text": [
      "<class '_io.TextIOWrapper'>\n"
     ]
    }
   ],
   "source": [
    "# For create\n",
    "\n",
    "filename = \"demo1.txt\"\n",
    "file_obj = open('demo1.txt','x')\n",
    "\n",
    "print(type(file_obj))"
   ]
  },
  {
   "cell_type": "code",
   "execution_count": null,
   "metadata": {},
   "outputs": [],
   "source": [
    "# Another method\n",
    "with open('filename','mode') as file_obj:\n",
    "  pass"
   ]
  },
  {
   "cell_type": "code",
   "execution_count": 21,
   "metadata": {},
   "outputs": [],
   "source": [
    "# for read\n",
    "with open('demo.txt','r') as file_obj:\n",
    " pass"
   ]
  },
  {
   "cell_type": "code",
   "execution_count": 20,
   "metadata": {},
   "outputs": [],
   "source": [
    "with open('demo.txt','w') as file_obj:\n",
    " pass"
   ]
  },
  {
   "cell_type": "code",
   "execution_count": 19,
   "metadata": {},
   "outputs": [],
   "source": [
    "with open('demo.txt','a') as file_obj:\n",
    " pass"
   ]
  },
  {
   "cell_type": "code",
   "execution_count": 18,
   "metadata": {},
   "outputs": [],
   "source": [
    "with open('demo2.txt','x') as file_obj:\n",
    " pass"
   ]
  },
  {
   "cell_type": "code",
   "execution_count": 27,
   "metadata": {},
   "outputs": [
    {
     "name": "stdout",
     "output_type": "stream",
     "text": [
      "hye how are you.\n",
      "<class 'str'>\n"
     ]
    }
   ],
   "source": [
    "with open(\"demo.txt\",'r') as file_obj:\n",
    "  file_content = file_obj.read()\n",
    "\n",
    "print(file_content)\n",
    "\n",
    "print(type(file_content))"
   ]
  },
  {
   "cell_type": "code",
   "execution_count": 28,
   "metadata": {},
   "outputs": [
    {
     "name": "stdout",
     "output_type": "stream",
     "text": [
      "hye how ar\n",
      "<class 'str'>\n"
     ]
    }
   ],
   "source": [
    "with open(\"demo.txt\",'r') as file_obj:\n",
    "  file_content = file_obj.read(10)\n",
    "\n",
    "print(file_content)\n",
    "\n",
    "print(type(file_content))"
   ]
  },
  {
   "cell_type": "code",
   "execution_count": 34,
   "metadata": {},
   "outputs": [
    {
     "name": "stdout",
     "output_type": "stream",
     "text": [
      "hye how are you.\n",
      "\n",
      "<class 'str'>\n"
     ]
    }
   ],
   "source": [
    "# in readline\n",
    "with open(\"demo.txt\",'r') as file_obj:\n",
    "  file_content = file_obj.readline()\n",
    "\n",
    "print(file_content)\n",
    "\n",
    "print(type(file_content))"
   ]
  },
  {
   "cell_type": "code",
   "execution_count": 42,
   "metadata": {},
   "outputs": [
    {
     "name": "stdout",
     "output_type": "stream",
     "text": [
      "['hye how are you.\\n', 'i am saroj']\n",
      "<class 'list'>\n"
     ]
    },
    {
     "ename": "AttributeError",
     "evalue": "'list' object has no attribute 'close'",
     "output_type": "error",
     "traceback": [
      "\u001b[0;31m---------------------------------------------------------------------------\u001b[0m",
      "\u001b[0;31mAttributeError\u001b[0m                            Traceback (most recent call last)",
      "Cell \u001b[0;32mIn[42], line 8\u001b[0m\n\u001b[1;32m      5\u001b[0m \u001b[38;5;28mprint\u001b[39m(file_content)\n\u001b[1;32m      7\u001b[0m \u001b[38;5;28mprint\u001b[39m(\u001b[38;5;28mtype\u001b[39m(file_content))\n\u001b[0;32m----> 8\u001b[0m \u001b[43mfile_content\u001b[49m\u001b[38;5;241;43m.\u001b[39;49m\u001b[43mclose\u001b[49m()\n",
      "\u001b[0;31mAttributeError\u001b[0m: 'list' object has no attribute 'close'"
     ]
    }
   ],
   "source": [
    "# in readlines\n",
    "with open(\"demo.txt\",'r') as file_obj:\n",
    "  file_content = file_obj.readlines()\n",
    "\n",
    "print(file_content)\n",
    "\n",
    "print(type(file_content))\n",
    "file_content.close()\n"
   ]
  },
  {
   "cell_type": "code",
   "execution_count": 44,
   "metadata": {},
   "outputs": [
    {
     "name": "stdout",
     "output_type": "stream",
     "text": [
      "hye how are you.\n",
      "i am saroj\n"
     ]
    }
   ],
   "source": [
    "file_obj = open('demo.txt','r')\n",
    "file_content = file_obj.read()\n",
    "print(file_content)\n"
   ]
  },
  {
   "cell_type": "code",
   "execution_count": 45,
   "metadata": {},
   "outputs": [
    {
     "name": "stdout",
     "output_type": "stream",
     "text": [
      "hye how ar\n"
     ]
    }
   ],
   "source": [
    "file_obj = open('demo.txt','r')\n",
    "file_content = file_obj.read(10)\n",
    "print(file_content)\n"
   ]
  },
  {
   "cell_type": "code",
   "execution_count": 46,
   "metadata": {},
   "outputs": [
    {
     "name": "stdout",
     "output_type": "stream",
     "text": [
      "hye how are you.\n",
      "\n"
     ]
    }
   ],
   "source": [
    "file_obj = open('demo.txt','r')\n",
    "file_content = file_obj.readline()\n",
    "print(file_content)\n"
   ]
  },
  {
   "cell_type": "code",
   "execution_count": 47,
   "metadata": {},
   "outputs": [
    {
     "name": "stdout",
     "output_type": "stream",
     "text": [
      "['hye how are you.\\n', 'i am saroj']\n"
     ]
    }
   ],
   "source": [
    "file_obj = open('demo.txt','r')\n",
    "file_content = file_obj.readlines()\n",
    "print(file_content)\n"
   ]
  }
 ],
 "metadata": {
  "kernelspec": {
   "display_name": "venv",
   "language": "python",
   "name": "python3"
  },
  "language_info": {
   "codemirror_mode": {
    "name": "ipython",
    "version": 3
   },
   "file_extension": ".py",
   "mimetype": "text/x-python",
   "name": "python",
   "nbconvert_exporter": "python",
   "pygments_lexer": "ipython3",
   "version": "3.11.5"
  }
 },
 "nbformat": 4,
 "nbformat_minor": 2
}
