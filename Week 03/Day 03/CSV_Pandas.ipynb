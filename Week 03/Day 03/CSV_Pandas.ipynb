{
 "cells": [
  {
   "cell_type": "code",
   "execution_count": 11,
   "metadata": {},
   "outputs": [
    {
     "name": "stdout",
     "output_type": "stream",
     "text": [
      "              Names  Total Cases New Cases  Total Deaths  New Deaths  \\\n",
      "0               USA    111568359       NaN     1216502.0         NaN   \n",
      "1             India     45030467       NaN      533499.0         NaN   \n",
      "2            France     40138560       NaN      167642.0         NaN   \n",
      "3           Germany     38822926       NaN      182669.0         NaN   \n",
      "4            Brazil     38452504       NaN      709963.0         NaN   \n",
      "..              ...          ...       ...           ...         ...   \n",
      "226         Tokelau           80       NaN           NaN         NaN   \n",
      "227    Vatican City           29       NaN           NaN         NaN   \n",
      "228  Western Sahara           10       NaN           1.0         NaN   \n",
      "229      MS Zaandam            9       NaN           2.0         NaN   \n",
      "230           China       503302       NaN        5272.0         NaN   \n",
      "\n",
      "     Total Recovered New Recovered  Active Cases  Serious Cases   Total tests  \\\n",
      "0        109335248.0           NaN     1016609.0         1525.0  1.186765e+09   \n",
      "1                NaN           NaN           NaN            NaN  9.358795e+08   \n",
      "2         39970918.0           NaN           0.0            NaN  2.714902e+08   \n",
      "3         38240600.0           NaN      399657.0            NaN  1.223324e+08   \n",
      "4         36249161.0           NaN     1493380.0            NaN  6.377617e+07   \n",
      "..               ...           ...           ...            ...           ...   \n",
      "226              NaN           NaN          80.0            NaN           NaN   \n",
      "227             29.0           NaN           0.0            NaN           NaN   \n",
      "228              9.0           NaN           0.0            NaN           NaN   \n",
      "229              7.0           NaN           0.0            NaN           NaN   \n",
      "230         379053.0           NaN      118977.0            NaN  1.600000e+08   \n",
      "\n",
      "       Population  \n",
      "0    3.348053e+08  \n",
      "1    1.406632e+09  \n",
      "2    6.558452e+07  \n",
      "3    8.388360e+07  \n",
      "4    2.153536e+08  \n",
      "..            ...  \n",
      "226  1.378000e+03  \n",
      "227  7.990000e+02  \n",
      "228  6.261610e+05  \n",
      "229           NaN  \n",
      "230  1.448471e+09  \n",
      "\n",
      "[231 rows x 11 columns]\n"
     ]
    }
   ],
   "source": [
    "# This is to execute excel file to CSV file by the help of  pandas into pandas\n",
    "# taking excel file in pandas process\n",
    "import pandas as pd\n",
    "d = pd.read_excel(\"/home/saroj/Desktop/Python for Machine Learning and Data Science/Week 03/Day 03/covid_data.xlsx\")\n",
    "df = pd.DataFrame(d)\n",
    "print(df)"
   ]
  },
  {
   "cell_type": "code",
   "execution_count": 14,
   "metadata": {},
   "outputs": [],
   "source": [
    "# Converting Excel File to CSV File \n",
    "df.to_csv(\"/home/saroj/Desktop/Python for Machine Learning and Data Science/Week 03/Day 03/covid_data.csv\",index=False)"
   ]
  },
  {
   "cell_type": "code",
   "execution_count": 15,
   "metadata": {},
   "outputs": [],
   "source": [
    "# Converting into TEXT File\n",
    "df.to_csv(\"/home/saroj/Desktop/Python for Machine Learning and Data Science/Week 03/Day 03/covid_data.txt\",index=False)"
   ]
  }
 ],
 "metadata": {
  "kernelspec": {
   "display_name": "venv",
   "language": "python",
   "name": "python3"
  },
  "language_info": {
   "codemirror_mode": {
    "name": "ipython",
    "version": 3
   },
   "file_extension": ".py",
   "mimetype": "text/x-python",
   "name": "python",
   "nbconvert_exporter": "python",
   "pygments_lexer": "ipython3",
   "version": "3.11.5"
  }
 },
 "nbformat": 4,
 "nbformat_minor": 2
}
