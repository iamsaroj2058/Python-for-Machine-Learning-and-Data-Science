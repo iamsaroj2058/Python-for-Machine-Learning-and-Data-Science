{
 "cells": [
  {
   "cell_type": "code",
   "execution_count": 3,
   "metadata": {},
   "outputs": [
    {
     "name": "stdout",
     "output_type": "stream",
     "text": [
      "Your age is not valid for voting.\n"
     ]
    }
   ],
   "source": [
    "# Exception Handeling..\n",
    "class CustomError(Exception):\n",
    "    pass\n",
    "\n",
    "try:\n",
    "    age = int(input(\"Enter your Age: \"))\n",
    "    if age >= 30:\n",
    "        print(\"Your age is valid to vote.\")\n",
    "    else:\n",
    "        raise CustomError(\"Your age is not valid for voting.\")\n",
    "except CustomError as ce:\n",
    "    print(ce)\n",
    "except ValueError:\n",
    "    print(\"Please enter a valid number for age.\")\n",
    "\n"
   ]
  },
  {
   "cell_type": "code",
   "execution_count": 9,
   "metadata": {},
   "outputs": [
    {
     "name": "stdout",
     "output_type": "stream",
     "text": [
      "sorry you are not valid\n"
     ]
    }
   ],
   "source": [
    "class Error(Exception):\n",
    "  pass\n",
    "\n",
    "class DobException(Error):\n",
    "  pass\n",
    "\n",
    "user_age = int(input(\"Enter your valid age:\",))\n",
    "\n",
    "try:\n",
    "  if user_age<=30 and user_age>20:\n",
    "    print(\"you are valid for this program\")\n",
    "\n",
    "\n",
    "  else:\n",
    "    raise DobException\n",
    "\n",
    "except DobException:\n",
    "  print(\"sorry you are not valid\")"
   ]
  }
 ],
 "metadata": {
  "kernelspec": {
   "display_name": "venv",
   "language": "python",
   "name": "python3"
  },
  "language_info": {
   "codemirror_mode": {
    "name": "ipython",
    "version": 3
   },
   "file_extension": ".py",
   "mimetype": "text/x-python",
   "name": "python",
   "nbconvert_exporter": "python",
   "pygments_lexer": "ipython3",
   "version": "3.11.5"
  }
 },
 "nbformat": 4,
 "nbformat_minor": 2
}
