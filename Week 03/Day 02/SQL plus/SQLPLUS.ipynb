{
 "cells": [
  {
   "cell_type": "code",
   "execution_count": 1,
   "metadata": {},
   "outputs": [
    {
     "name": "stdout",
     "output_type": "stream",
     "text": [
      "Opened database successfully\n"
     ]
    }
   ],
   "source": [
    "import sqlite3\n",
    "db_name = \"users.db\"\n",
    "conn = sqlite3.connect(db_name)\n",
    "print(\"Opened database successfully\")"
   ]
  },
  {
   "cell_type": "code",
   "execution_count": 6,
   "metadata": {},
   "outputs": [
    {
     "ename": "ModuleNotFoundError",
     "evalue": "No module named 'mysql'",
     "output_type": "error",
     "traceback": [
      "\u001b[0;31m---------------------------------------------------------------------------\u001b[0m",
      "\u001b[0;31mModuleNotFoundError\u001b[0m                       Traceback (most recent call last)",
      "Cell \u001b[0;32mIn[6], line 2\u001b[0m\n\u001b[1;32m      1\u001b[0m \u001b[38;5;28;01mimport\u001b[39;00m \u001b[38;5;21;01mtkinter\u001b[39;00m \u001b[38;5;28;01mas\u001b[39;00m \u001b[38;5;21;01mtk\u001b[39;00m\n\u001b[0;32m----> 2\u001b[0m \u001b[38;5;28;01mimport\u001b[39;00m \u001b[38;5;21;01mmysql\u001b[39;00m\u001b[38;5;21;01m.\u001b[39;00m\u001b[38;5;21;01mconnector\u001b[39;00m \n\u001b[1;32m      3\u001b[0m \u001b[38;5;28;01mfrom\u001b[39;00m \u001b[38;5;21;01mtkinter\u001b[39;00m \u001b[38;5;28;01mimport\u001b[39;00m \u001b[38;5;241m*\u001b[39m\n\u001b[1;32m      6\u001b[0m \u001b[38;5;28;01mdef\u001b[39;00m \u001b[38;5;21msubmitact\u001b[39m():\n",
      "\u001b[0;31mModuleNotFoundError\u001b[0m: No module named 'mysql'"
     ]
    }
   ],
   "source": [
    "import tkinter as tk\n",
    "import mysql.connector \n",
    "from tkinter import *\n",
    "  \n",
    " \n",
    "def submitact():\n",
    "     \n",
    "    user = Username.get()\n",
    "    passw = password.get()\n",
    "  \n",
    "    print(f\"The name entered by you is {user} {passw}\")\n",
    "  \n",
    "    logintodb(user, passw)\n",
    "  \n",
    " \n",
    "def logintodb(user, passw):\n",
    "     \n",
    "    # If password is entered by the \n",
    "    # user\n",
    "    if passw:\n",
    "        db = mysql.connector.connect(host =\"localhost\",\n",
    "                                     user = user,\n",
    "                                     password = passw,\n",
    "                                     db =\"College\")\n",
    "        cursor = db.cursor()\n",
    "         \n",
    "    # If no password is entered by the\n",
    "    # user\n",
    "    else:\n",
    "        db = mysql.connector.connect(host =\"localhost\",\n",
    "                                     user = user,\n",
    "                                     db =\"College\")\n",
    "        cursor = db.cursor()\n",
    "         \n",
    "    # A Table in the database\n",
    "    savequery = \"select * from STUDENT\"\n",
    "     \n",
    "    try:\n",
    "        cursor.execute(savequery)\n",
    "        myresult = cursor.fetchall()\n",
    "         \n",
    "        # Printing the result of the\n",
    "        # query\n",
    "        for x in myresult:\n",
    "            print(x)\n",
    "        print(\"Query Executed successfully\")\n",
    "         \n",
    "    except:\n",
    "        db.rollback()\n",
    "        print(\"Error occurred\")\n",
    "  \n",
    " \n",
    "root = tk.Tk()\n",
    "root.geometry(\"300x300\")\n",
    "root.title(\"DBMS Login Page\")\n",
    "  \n",
    " \n",
    "# Defining the first row\n",
    "lblfrstrow = tk.Label(root, text =\"Username -\", )\n",
    "lblfrstrow.place(x = 50, y = 20)\n",
    " \n",
    "Username = tk.Entry(root, width = 35)\n",
    "Username.place(x = 150, y = 20, width = 100)\n",
    "  \n",
    "lblsecrow = tk.Label(root, text =\"Password -\")\n",
    "lblsecrow.place(x = 50, y = 50)\n",
    " \n",
    "password = tk.Entry(root, width = 35)\n",
    "password.place(x = 150, y = 50, width = 100)\n",
    " \n",
    "submitbtn = tk.Button(root, text =\"Login\", \n",
    "                      bg ='blue', command = submitact)\n",
    "submitbtn.place(x = 150, y = 135, width = 55)\n",
    " \n",
    "root.mainloop()"
   ]
  },
  {
   "cell_type": "code",
   "execution_count": 3,
   "metadata": {},
   "outputs": [
    {
     "ename": "SyntaxError",
     "evalue": "invalid syntax. Perhaps you forgot a comma? (1309519749.py, line 3)",
     "output_type": "error",
     "traceback": [
      "\u001b[0;36m  Cell \u001b[0;32mIn[3], line 3\u001b[0;36m\u001b[0m\n\u001b[0;31m    \"username\" TEXT,\u001b[0m\n\u001b[0m    ^\u001b[0m\n\u001b[0;31mSyntaxError\u001b[0m\u001b[0;31m:\u001b[0m invalid syntax. Perhaps you forgot a comma?\n"
     ]
    }
   ],
   "source": [
    "# -- Create table with correct table name\n",
    "CREATE TABLE IF NOT EXISTS \"users\" (\n",
    "    \"username\" TEXT,\n",
    "    \"password\" TEXT\n",
    ");\n",
    "\n",
    "-- Insert data into the \"users\" table\n",
    "INSERT INTO \"users\" VALUES ('boss', '1234');\n",
    "INSERT INTO \"users\" VALUES ('admin', 'password');\n"
   ]
  }
 ],
 "metadata": {
  "kernelspec": {
   "display_name": "venv",
   "language": "python",
   "name": "python3"
  },
  "language_info": {
   "codemirror_mode": {
    "name": "ipython",
    "version": 3
   },
   "file_extension": ".py",
   "mimetype": "text/x-python",
   "name": "python",
   "nbconvert_exporter": "python",
   "pygments_lexer": "ipython3",
   "version": "3.11.5"
  }
 },
 "nbformat": 4,
 "nbformat_minor": 2
}
