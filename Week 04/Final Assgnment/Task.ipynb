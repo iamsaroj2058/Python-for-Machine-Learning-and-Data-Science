{
 "cells": [
  {
   "cell_type": "code",
   "execution_count": 24,
   "metadata": {},
   "outputs": [
    {
     "name": "stdout",
     "output_type": "stream",
     "text": [
      "Element at index 2: 3\n"
     ]
    }
   ],
   "source": [
    "# Creating a 1D array\n",
    "arr_1d = [1, 2, 3, 4, 5]\n",
    "\n",
    "# Accessing elements\n",
    "print(\"Element at index 2:\", arr_1d[2])"
   ]
  },
  {
   "cell_type": "code",
   "execution_count": 25,
   "metadata": {},
   "outputs": [
    {
     "name": "stdout",
     "output_type": "stream",
     "text": [
      "Array after insertion: [1, 2, 3, 4, 5, 6]\n"
     ]
    }
   ],
   "source": [
    "# Insertion\n",
    "arr_1d.append(6)\n",
    "print(\"Array after insertion:\", arr_1d)"
   ]
  },
  {
   "cell_type": "code",
   "execution_count": 26,
   "metadata": {},
   "outputs": [
    {
     "name": "stdout",
     "output_type": "stream",
     "text": [
      "Array after deletion: [1, 2, 3, 5, 6]\n"
     ]
    }
   ],
   "source": [
    "# Deletion\n",
    "del arr_1d[3]\n",
    "print(\"Array after deletion:\", arr_1d)"
   ]
  },
  {
   "cell_type": "code",
   "execution_count": 27,
   "metadata": {},
   "outputs": [
    {
     "name": "stdout",
     "output_type": "stream",
     "text": [
      "Array after updating: [1, 10, 3, 5, 6]\n"
     ]
    }
   ],
   "source": [
    "# Updating\n",
    "arr_1d[1] = 10\n",
    "print(\"Array after updating:\", arr_1d)"
   ]
  },
  {
   "cell_type": "code",
   "execution_count": 28,
   "metadata": {},
   "outputs": [
    {
     "name": "stdout",
     "output_type": "stream",
     "text": [
      "1\n",
      "10\n",
      "3\n",
      "5\n",
      "6\n"
     ]
    }
   ],
   "source": [
    "# Traversal\n",
    "for element in arr_1d:\n",
    "    print(element)"
   ]
  },
  {
   "cell_type": "code",
   "execution_count": 29,
   "metadata": {},
   "outputs": [
    {
     "name": "stdout",
     "output_type": "stream",
     "text": [
      "Array after sorting: [1, 3, 5, 6, 10]\n"
     ]
    }
   ],
   "source": [
    "# Sorting\n",
    "arr_1d.sort()\n",
    "print(\"Array after sorting:\", arr_1d)"
   ]
  },
  {
   "cell_type": "code",
   "execution_count": 30,
   "metadata": {},
   "outputs": [
    {
     "name": "stdout",
     "output_type": "stream",
     "text": [
      "4 not found\n"
     ]
    }
   ],
   "source": [
    "# Searching\n",
    "element_to_search = 4\n",
    "if element_to_search in arr_1d:\n",
    "    print(f\"{element_to_search} found at index\", arr_1d.index(element_to_search))\n",
    "else:\n",
    "    print(f\"{element_to_search} not found\")"
   ]
  },
  {
   "cell_type": "code",
   "execution_count": 31,
   "metadata": {},
   "outputs": [],
   "source": [
    "# Creating a 2D array\n",
    "arr_2d = [[1, 2, 3],\n",
    "          [4, 5, 6],\n",
    "          [7, 8, 9]]"
   ]
  },
  {
   "cell_type": "code",
   "execution_count": 32,
   "metadata": {},
   "outputs": [
    {
     "name": "stdout",
     "output_type": "stream",
     "text": [
      "Element at row 1, column 2: 6\n"
     ]
    }
   ],
   "source": [
    "# Accessing elements\n",
    "print(\"Element at row 1, column 2:\", arr_2d[1][2])\n",
    "\n",
    "\n"
   ]
  },
  {
   "cell_type": "code",
   "execution_count": 33,
   "metadata": {},
   "outputs": [
    {
     "name": "stdout",
     "output_type": "stream",
     "text": [
      "Array after insertion: [[1, 2, 3], [4, 5, 6], [7, 8, 9], [10, 11, 12]]\n"
     ]
    }
   ],
   "source": [
    "# Insertion\n",
    "arr_2d.append([10, 11, 12])\n",
    "print(\"Array after insertion:\", arr_2d)\n"
   ]
  },
  {
   "cell_type": "code",
   "execution_count": 34,
   "metadata": {},
   "outputs": [
    {
     "name": "stdout",
     "output_type": "stream",
     "text": [
      "Array after deletion: [[1, 2, 3], [4, 5, 6], [10, 11, 12]]\n"
     ]
    }
   ],
   "source": [
    "# Deletion\n",
    "del arr_2d[2]\n",
    "print(\"Array after deletion:\", arr_2d)"
   ]
  },
  {
   "cell_type": "code",
   "execution_count": 35,
   "metadata": {},
   "outputs": [
    {
     "name": "stdout",
     "output_type": "stream",
     "text": [
      "Array after updating: [[1, 20, 3], [4, 5, 6], [10, 11, 12]]\n"
     ]
    }
   ],
   "source": [
    "\n",
    "\n",
    "# Updating\n",
    "arr_2d[0][1] = 20\n",
    "print(\"Array after updating:\", arr_2d)"
   ]
  },
  {
   "cell_type": "code",
   "execution_count": 36,
   "metadata": {},
   "outputs": [
    {
     "name": "stdout",
     "output_type": "stream",
     "text": [
      "1 20 3 \n",
      "4 5 6 \n",
      "10 11 12 \n"
     ]
    }
   ],
   "source": [
    "\n",
    "# Traversal\n",
    "for row in arr_2d:\n",
    "    for element in row:\n",
    "        print(element, end=' ')\n",
    "    print()\n"
   ]
  },
  {
   "cell_type": "code",
   "execution_count": 37,
   "metadata": {},
   "outputs": [
    {
     "name": "stdout",
     "output_type": "stream",
     "text": [
      "Array after sorting each row: [[1, 3, 20], [4, 5, 6], [10, 11, 12]]\n"
     ]
    }
   ],
   "source": [
    "\n",
    "# Sorting (sorting individual rows)\n",
    "for row in arr_2d:\n",
    "    row.sort()\n",
    "print(\"Array after sorting each row:\", arr_2d)"
   ]
  },
  {
   "cell_type": "code",
   "execution_count": 38,
   "metadata": {},
   "outputs": [
    {
     "name": "stdout",
     "output_type": "stream",
     "text": [
      "6 found at row 1, column 2\n"
     ]
    }
   ],
   "source": [
    "\n",
    "\n",
    "\n",
    "# Searching\n",
    "element_to_search = 6\n",
    "for i in range(len(arr_2d)):\n",
    "    if element_to_search in arr_2d[i]:\n",
    "        print(f\"{element_to_search} found at row {i}, column\", arr_2d[i].index(element_to_search))\n",
    "        break\n",
    "else:\n",
    "    print(f\"{element_to_search} not found\")"
   ]
  },
  {
   "cell_type": "code",
   "execution_count": 39,
   "metadata": {},
   "outputs": [
    {
     "name": "stdout",
     "output_type": "stream",
     "text": [
      "Element at layer 1, row 0, column 1: 6\n"
     ]
    }
   ],
   "source": [
    "# Creating a 3D array\n",
    "arr_3d = [[[1, 2], [3, 4]],\n",
    "          [[5, 6], [7, 8]],\n",
    "          [[9, 10], [11, 12]]]\n",
    "\n",
    "# Accessing elements\n",
    "print(\"Element at layer 1, row 0, column 1:\", arr_3d[1][0][1])\n",
    "\n",
    "\n",
    "\n",
    "\n",
    "\n",
    "\n",
    "\n"
   ]
  },
  {
   "cell_type": "code",
   "execution_count": 40,
   "metadata": {},
   "outputs": [
    {
     "name": "stdout",
     "output_type": "stream",
     "text": [
      "Array after insertion: [[[1, 2], [3, 4]], [[5, 6], [7, 8]], [[9, 10], [11, 12]], [[13, 14], [15, 16]]]\n"
     ]
    }
   ],
   "source": [
    "# Insertion\n",
    "arr_3d.append([[13, 14], [15, 16]])\n",
    "print(\"Array after insertion:\", arr_3d)"
   ]
  },
  {
   "cell_type": "code",
   "execution_count": 41,
   "metadata": {},
   "outputs": [
    {
     "name": "stdout",
     "output_type": "stream",
     "text": [
      "Array after deletion: [[[1, 2], [3, 4]], [[9, 10], [11, 12]], [[13, 14], [15, 16]]]\n"
     ]
    }
   ],
   "source": [
    "# Deletion\n",
    "del arr_3d[1]\n",
    "print(\"Array after deletion:\", arr_3d)"
   ]
  },
  {
   "cell_type": "code",
   "execution_count": 42,
   "metadata": {},
   "outputs": [
    {
     "name": "stdout",
     "output_type": "stream",
     "text": [
      "Array after updating: [[[1, 2], [20, 4]], [[9, 10], [11, 12]], [[13, 14], [15, 16]]]\n"
     ]
    }
   ],
   "source": [
    "\n",
    "\n",
    "\n",
    "\n",
    "# Updating\n",
    "arr_3d[0][1][0] = 20\n",
    "print(\"Array after updating:\", arr_3d)"
   ]
  },
  {
   "cell_type": "code",
   "execution_count": 43,
   "metadata": {},
   "outputs": [
    {
     "name": "stdout",
     "output_type": "stream",
     "text": [
      "1 2 \n",
      "20 4 \n",
      "9 10 \n",
      "11 12 \n",
      "13 14 \n",
      "15 16 \n"
     ]
    }
   ],
   "source": [
    "# Traversal\n",
    "for layer in arr_3d:\n",
    "    for row in layer:\n",
    "        for element in row:\n",
    "            print(element, end=' ')\n",
    "        print()"
   ]
  },
  {
   "cell_type": "code",
   "execution_count": 44,
   "metadata": {},
   "outputs": [
    {
     "name": "stdout",
     "output_type": "stream",
     "text": [
      "Array after sorting each layer: [[[1, 2], [4, 20]], [[9, 10], [11, 12]], [[13, 14], [15, 16]]]\n"
     ]
    }
   ],
   "source": [
    "# Sorting (sorting individual layers)\n",
    "for layer in arr_3d:\n",
    "    for row in layer:\n",
    "        row.sort()\n",
    "print(\"Array after sorting each layer:\", arr_3d)\n"
   ]
  },
  {
   "cell_type": "code",
   "execution_count": 45,
   "metadata": {},
   "outputs": [
    {
     "name": "stdout",
     "output_type": "stream",
     "text": [
      "10 found at layer 1, row 0, column 1\n"
     ]
    }
   ],
   "source": [
    "# Searching\n",
    "element_to_search = 10\n",
    "for i in range(len(arr_3d)):\n",
    "    for j in range(len(arr_3d[i])):\n",
    "        if element_to_search in arr_3d[i][j]:\n",
    "            print(f\"{element_to_search} found at layer {i}, row {j}, column\", arr_3d[i][j].index(element_to_search))\n",
    "            break\n",
    "    else:\n",
    "        continue\n",
    "    break\n",
    "else:\n",
    "    print(f\"{element_to_search} not found\")"
   ]
  }
 ],
 "metadata": {
  "kernelspec": {
   "display_name": "venv",
   "language": "python",
   "name": "python3"
  },
  "language_info": {
   "codemirror_mode": {
    "name": "ipython",
    "version": 3
   },
   "file_extension": ".py",
   "mimetype": "text/x-python",
   "name": "python",
   "nbconvert_exporter": "python",
   "pygments_lexer": "ipython3",
   "version": "3.11.5"
  }
 },
 "nbformat": 4,
 "nbformat_minor": 2
}
