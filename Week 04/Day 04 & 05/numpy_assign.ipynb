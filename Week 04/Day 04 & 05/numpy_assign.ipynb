{
 "cells": [
  {
   "cell_type": "code",
   "execution_count": 2,
   "metadata": {},
   "outputs": [
    {
     "name": "stdout",
     "output_type": "stream",
     "text": [
      "First element: 1\n",
      "Modified array: [1, 2, 10, 4, 5]\n"
     ]
    }
   ],
   "source": [
    "# How can we make array in python without using NumPy\n",
    "\n",
    "array_1d = [1, 2, 3, 4, 5]\n",
    "\n",
    "\n",
    "print(\"First element:\", array_1d[0])  \n",
    "\n",
    "array_1d[2] = 10\n",
    "print(\"Modified array:\", array_1d)  "
   ]
  },
  {
   "cell_type": "code",
   "execution_count": 8,
   "metadata": {},
   "outputs": [
    {
     "name": "stdout",
     "output_type": "stream",
     "text": [
      "[['a', 'b', 'c', 'd', 'e'], ['f', 'g', 'h', 'i', 'j']]\n"
     ]
    }
   ],
   "source": [
    "# How can we make array in python without using NumPy\n",
    "\n",
    "def createMatrix(rowno, colno, dataList):\n",
    "    matrix = []\n",
    "    for m in range(rowno):\n",
    "        Listrow = []\n",
    "        for k in range(colno):\n",
    "            Listrow.append(dataList[colno * m + k])\n",
    "        matrix.append(Listrow)\n",
    "    return matrix\n",
    "\n",
    "def main():\n",
    "    let = ['a', 'b', 'c', 'd', 'e', 'f', 'g', 'h', 'i', 'j']  \n",
    "    matrix = createMatrix(2, 5, let) \n",
    "    print(matrix)\n",
    "\n",
    "main()\n"
   ]
  },
  {
   "cell_type": "markdown",
   "metadata": {},
   "source": [
    "```Here's why 1 + 1.0 equals 2.0:\n",
    "\n",
    "The integer 1 is added to the floating-point number 1.0.\n",
    "When adding an integer and a floating-point number, Python automatically promotes the integer to a floating-point number.\n",
    "So, effectively, you're performing 1.0 + 1.0, which equals 2.0```\n",
    "\n",
    "```This behavior is consistent with the concept of type promotion in Python and ensures that you don't lose precision when performing arithmetic operations involving different numeric types.```"
   ]
  }
 ],
 "metadata": {
  "kernelspec": {
   "display_name": "venv",
   "language": "python",
   "name": "python3"
  },
  "language_info": {
   "codemirror_mode": {
    "name": "ipython",
    "version": 3
   },
   "file_extension": ".py",
   "mimetype": "text/x-python",
   "name": "python",
   "nbconvert_exporter": "python",
   "pygments_lexer": "ipython3",
   "version": "3.11.5"
  }
 },
 "nbformat": 4,
 "nbformat_minor": 2
}
