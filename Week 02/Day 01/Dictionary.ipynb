{
 "cells": [
  {
   "cell_type": "markdown",
   "metadata": {
    "id": "68mvMn_xA6XJ"
   },
   "source": [
    "## Python Dictionary\n",
    "- Dictionaries are used to store data values in key:value pairs.\n",
    "- A dictionary is collection which is:\n",
    "  - `Ordered:`\n",
    "    - Dictionaries are ordered means that the items have a defined order, and that will not change.\n",
    "  - `Changeable:`\n",
    "    - Dictionaries are changeable, meaning we can change, add, or remove items after the dictionary has been created.\n",
    "    \n",
    "  - `Duplicates not allowed:`\n",
    "    - Dictionaries cannot have two items with the same key.\n",
    "\n",
    "- Dictionary are also denoted by curly brackets *{ }*\n",
    "\n",
    "- Unlike Lists, Dictionaries are indexed by custom keys instead of sequence of numbers as in Lists.\n",
    "\n",
    "- In this lecture we'll cover:\n",
    "  - Creating Dictionaries\n",
    "  - Indexing Dictionaries\n",
    "  - Dictionaries are mutable\n",
    "  - Dictionary methods\n",
    "  - Loop Dictionary\n",
    "  - Dictionary Comprehension"
   ]
  },
  {
   "cell_type": "markdown",
   "metadata": {
    "id": "3Ejz4wArEudb"
   },
   "source": [
    "### 1. Creating Dictionary\n",
    "- Dictionary are create using curly brackets **{ }**\n",
    "- Unlike Lists, Dictionary has custom index created by user itself i.e. Dictionaries are used to store data values in key:value pairs.\n",
    "- Dictionary creation:\n",
    "  - `create empty dictionary`\n",
    "    - E.g empt_dict = {}\n",
    "  - `create simple dictionary`\n",
    "    - E.g. simple_dict = {'mango': 2, 'banana': 4}\n",
    "  - `create nested dictionary`\n",
    "    - E.g. nested_dict = {'fruits': {'mango': 2, 'banana': 4}, 'drinks': {'coke': 3, 'frooti': 4}}"
   ]
  },
  {
   "cell_type": "code",
   "execution_count": 2,
   "metadata": {
    "executionInfo": {
     "elapsed": 6,
     "status": "ok",
     "timestamp": 1686386891564,
     "user": {
      "displayName": "Anish Thapaliya",
      "userId": "06325140887572930045"
     },
     "user_tz": -345
    },
    "id": "AoTMnOvMfOxI"
   },
   "outputs": [
    {
     "name": "stdout",
     "output_type": "stream",
     "text": [
      "{}\n"
     ]
    }
   ],
   "source": [
    "# 1. create empty dict\n",
    "empty_dict={}\n",
    "print(empty_dict)"
   ]
  },
  {
   "cell_type": "code",
   "execution_count": 10,
   "metadata": {
    "executionInfo": {
     "elapsed": 4,
     "status": "ok",
     "timestamp": 1686413894575,
     "user": {
      "displayName": "Anish Thapaliya",
      "userId": "06325140887572930045"
     },
     "user_tz": -345
    },
    "id": "8rpuJFXWGabt"
   },
   "outputs": [
    {
     "name": "stdout",
     "output_type": "stream",
     "text": [
      "<class 'dict'>\n"
     ]
    }
   ],
   "source": [
    "# check type \n",
    "simple_dict = {'mango': 2, 'banana': 4}\n",
    "print (type(simple_dict))\n"
   ]
  },
  {
   "cell_type": "code",
   "execution_count": 11,
   "metadata": {
    "executionInfo": {
     "elapsed": 3,
     "status": "ok",
     "timestamp": 1686413894575,
     "user": {
      "displayName": "Anish Thapaliya",
      "userId": "06325140887572930045"
     },
     "user_tz": -345
    },
    "id": "r02gjTnyGbwL"
   },
   "outputs": [
    {
     "name": "stdout",
     "output_type": "stream",
     "text": [
      "{'mango': 2, 'banana': 4}\n"
     ]
    }
   ],
   "source": [
    "# 2. create simple dict\n",
    "simple_dict = {'mango': 2, 'banana': 4}\n",
    "print(simple_dict)"
   ]
  },
  {
   "cell_type": "code",
   "execution_count": 12,
   "metadata": {
    "executionInfo": {
     "elapsed": 8,
     "status": "ok",
     "timestamp": 1686413895760,
     "user": {
      "displayName": "Anish Thapaliya",
      "userId": "06325140887572930045"
     },
     "user_tz": -345
    },
    "id": "rOr0wmfhGdS6"
   },
   "outputs": [
    {
     "name": "stdout",
     "output_type": "stream",
     "text": [
      "<class 'dict'>\n"
     ]
    }
   ],
   "source": [
    "# check type\n",
    "print(type(simple_dict))"
   ]
  },
  {
   "cell_type": "code",
   "execution_count": 14,
   "metadata": {
    "executionInfo": {
     "elapsed": 2,
     "status": "ok",
     "timestamp": 1686413908071,
     "user": {
      "displayName": "Anish Thapaliya",
      "userId": "06325140887572930045"
     },
     "user_tz": -345
    },
    "id": "MAuUKQbVGd-6"
   },
   "outputs": [
    {
     "name": "stdout",
     "output_type": "stream",
     "text": [
      "2\n",
      "3\n"
     ]
    }
   ],
   "source": [
    "# 3. create nested dict\n",
    "nested_dict = {'fruits': {'mango': 2, 'banana': 4}, 'drinks': {'coke': 3, 'frooti': 4}}\n",
    "print(nested_dict['fruits']['mango'])  \n",
    "print(nested_dict['drinks']['coke'])   \n"
   ]
  },
  {
   "cell_type": "code",
   "execution_count": 15,
   "metadata": {
    "executionInfo": {
     "elapsed": 5,
     "status": "ok",
     "timestamp": 1686413911252,
     "user": {
      "displayName": "Anish Thapaliya",
      "userId": "06325140887572930045"
     },
     "user_tz": -345
    },
    "id": "Li5b6rCqGhNS"
   },
   "outputs": [
    {
     "name": "stdout",
     "output_type": "stream",
     "text": [
      "<class 'dict'>\n"
     ]
    }
   ],
   "source": [
    "# check type\n",
    "print(type(nested_dict))"
   ]
  },
  {
   "cell_type": "markdown",
   "metadata": {
    "id": "e-Wz0oX6HMja"
   },
   "source": [
    "## 2. Indexing Dictionaries\n",
    "-  Like List, we can use large brackets **[ ]** to extract dictionary values. However, main difference is List indexing starts with 0 i.e. sequence of numbers, But Dictionary indexing is performed using user inserted index/keys.\n",
    "\n",
    "<img src=\"https://cf-courses-data.s3.us.cloud-object-storage.appdomain.cloud/IBMDeveloperSkillsNetwork-PY0101EN-SkillsNetwork/labs/Module%202/images/DictsList.png\" width=\"500\">\n",
    "\n",
    "[Cognitiveclass.ai](https://cognitiveclass.ai/)\n"
   ]
  },
  {
   "cell_type": "markdown",
   "metadata": {
    "id": "b8LkTiasJWXc"
   },
   "source": [
    "**Indexing Simple Dictionary**\n",
    "\n",
    "```\n",
    "fruits_count = {'mango': 100, 'banana': 10, 'orange': 200, 'kiwi': 20}\n",
    "```"
   ]
  },
  {
   "cell_type": "code",
   "execution_count": 17,
   "metadata": {
    "executionInfo": {
     "elapsed": 9,
     "status": "ok",
     "timestamp": 1686414682484,
     "user": {
      "displayName": "Anish Thapaliya",
      "userId": "06325140887572930045"
     },
     "user_tz": -345
    },
    "id": "gWXPdwpsGh-F"
   },
   "outputs": [
    {
     "name": "stdout",
     "output_type": "stream",
     "text": [
      "Mango count: 100\n",
      "Banana count: 10\n",
      "Orange count: 200\n",
      "Kiwi count: 20\n"
     ]
    }
   ],
   "source": [
    "# create a fruits_count dictionary and access the values of mango, banana,orange, kiwi\n",
    "# access different items\n",
    "fruits_count = {'mango': 100, 'banana': 10, 'orange': 200, 'kiwi': 20}\n",
    "\n",
    "# Access values of specific items\n",
    "mango_count = fruits_count['mango']\n",
    "banana_count = fruits_count['banana']\n",
    "orange_count = fruits_count['orange']\n",
    "kiwi_count = fruits_count['kiwi']\n",
    "\n",
    "# Print the counts\n",
    "print(f'Mango count: {mango_count}')\n",
    "print(f'Banana count: {banana_count}')\n",
    "print(f'Orange count: {orange_count}')\n",
    "print(f'Kiwi count: {kiwi_count}')\n",
    "\n"
   ]
  },
  {
   "cell_type": "markdown",
   "metadata": {
    "id": "Uo0VR5T5Je-G"
   },
   "source": [
    "**Indexing Nested Dictionary**\n",
    "```\n",
    "food_counts = {\n",
    "  'fruits': {\"mango\": 100, \"banana\": 10, \"orange\": 200, \"kiwi\": 20},\n",
    "  'drinks': {\"coke\": 20, \"redbull\": 30, \"lassi\": 10}\n",
    "}\n",
    "```"
   ]
  },
  {
   "cell_type": "code",
   "execution_count": 22,
   "metadata": {
    "executionInfo": {
     "elapsed": 787,
     "status": "ok",
     "timestamp": 1686415123778,
     "user": {
      "displayName": "Anish Thapaliya",
      "userId": "06325140887572930045"
     },
     "user_tz": -345
    },
    "id": "4McncoVRJeYB"
   },
   "outputs": [
    {
     "name": "stdout",
     "output_type": "stream",
     "text": [
      "100\n",
      "10\n",
      "200\n",
      "20\n",
      "20\n"
     ]
    }
   ],
   "source": [
    "# create a nested dictionary\n",
    "# access different items like above\n",
    "\n",
    "nested_dict = {\n",
    "    'fruits': {\"mango\": 100, \"banana\": 10, \"orange\": 200, \"kiwi\": 20},\n",
    "    'drinks': {\"coke\": 20, \"redbull\": 30, \"lassi\": 10}\n",
    "}\n",
    "\n",
    "mango_count=nested_dict[\"fruits\"]['mango']\n",
    "banana_count=nested_dict[\"fruits\"][\"banana\"]\n",
    "orange_count=nested_dict[\"fruits\"][\"orange\"]\n",
    "kiwi_count=nested_dict[\"fruits\"][\"kiwi\"]\n",
    "\n",
    "coke_count=nested_dict[\"drinks\"][\"coke\"]\n",
    "\n",
    "print(mango_count)\n",
    "print(banana_count)\n",
    "print(orange_count)\n",
    "print(kiwi_count)\n",
    "print(coke_count)\n"
   ]
  },
  {
   "cell_type": "markdown",
   "metadata": {
    "id": "HLqAtASGLUu3"
   },
   "source": [
    "### 3. Dictionaries are Mutable\n",
    "- Like Lists Dictionaries are mutable.\n",
    "- We can change items, add new items, remove existing items from dictionary after its creation. \n",
    "\n",
    "`Q. Create a simple Dictionary. Verify Dictionary is mutable by changing values. Adding new values.`"
   ]
  },
  {
   "cell_type": "code",
   "execution_count": 6,
   "metadata": {
    "id": "G-_uwJOsLJ8G"
   },
   "outputs": [
    {
     "name": "stdout",
     "output_type": "stream",
     "text": [
      "{'banana': 10, 'apple': 20, 'grapes': 30}\n",
      "{'banana': 5, 'apple': 20, 'grapes': 30}\n",
      "{'banana': 5, 'apple': 10, 'grapes': 30}\n"
     ]
    }
   ],
   "source": [
    "## write your program here\n",
    "simple_dir={'banana':10,'apple':20,'grapes':30}\n",
    "print(simple_dir)\n",
    "\n",
    "simple_dir['banana']=5\n",
    "print(simple_dir)\n",
    "\n",
    "simple_dir['apple']=10\n",
    "print(simple_dir)"
   ]
  },
  {
   "cell_type": "markdown",
   "metadata": {
    "id": "VceNQ0zvM9Uq"
   },
   "source": [
    "`We, will learn Dictionary methods to add, remove items in below section`"
   ]
  },
  {
   "cell_type": "markdown",
   "metadata": {
    "id": "C-7x_GNhNK-g"
   },
   "source": [
    "### 4 Dictionary Methods\n",
    "- Most common Dictionary methods are:\n",
    "  - `get():`  Returns the value of the specified key\n",
    "  - `keys():`  Returns a list containing the dictionary's keys\n",
    "  - `values():`  Returns a list of all the values in the dictionary\n",
    "  - `items():`  Returns a list containing a tuple of each key-value pairs\n",
    "  - `update():`  Updates the dictionary with the specified key-value pairs\n",
    "  - `pop():`  Removes the element with the specified key\n",
    "\n",
    "```\n",
    "fruit_counts = {'mango': 100, 'banana': 10, 'orange': 200, 'kiwi': 20}\n",
    "```"
   ]
  },
  {
   "cell_type": "code",
   "execution_count": 8,
   "metadata": {
    "colab": {
     "base_uri": "https://localhost:8080/"
    },
    "executionInfo": {
     "elapsed": 14,
     "status": "ok",
     "timestamp": 1686416504491,
     "user": {
      "displayName": "Anish Thapaliya",
      "userId": "06325140887572930045"
     },
     "user_tz": -345
    },
    "id": "O4qy3rR3NFxB",
    "outputId": "c11fa357-330d-41c7-ecbc-98751eeb2b5b"
   },
   "outputs": [
    {
     "name": "stdout",
     "output_type": "stream",
     "text": [
      "Inatialize dictionary: {'mango': 100, 'banana': 10, 'orange': 200, 'kiwi': 20}\n"
     ]
    }
   ],
   "source": [
    "## initialize dictionary\n",
    "fruit_counts = {'mango': 100, 'banana': 10, 'orange': 200, 'kiwi': 20}\n",
    "print(\"Inatialize dictionary:\",fruit_counts)"
   ]
  },
  {
   "cell_type": "code",
   "execution_count": 26,
   "metadata": {
    "id": "JORY1aPcQbGm"
   },
   "outputs": [
    {
     "name": "stdout",
     "output_type": "stream",
     "text": [
      "Count of banana: 10\n"
     ]
    }
   ],
   "source": [
    "# access value for key = \"banana\"\n",
    "# hint: dict.get(<key>)\n",
    "fruit_counts = {'mango': 100, 'banana': 10, 'orange': 200, 'kiwi': 20}\n",
    "banana_count = fruit_counts.get('banana')\n",
    "\n",
    "\n",
    "print(\"Count of banana:\", banana_count)\n"
   ]
  },
  {
   "cell_type": "code",
   "execution_count": 25,
   "metadata": {
    "id": "gxEci0wDQqKp"
   },
   "outputs": [
    {
     "name": "stdout",
     "output_type": "stream",
     "text": [
      "[100, 10, 200, 20]\n"
     ]
    }
   ],
   "source": [
    "# get list of all the keys present in the dictionary\n",
    "# Hint: dict.keys()\n",
    "all_keys = list(fruit_counts.keys())\n",
    "print(all_keys)"
   ]
  },
  {
   "cell_type": "code",
   "execution_count": 39,
   "metadata": {
    "id": "bcS1cSwDQ7pg"
   },
   "outputs": [
    {
     "name": "stdout",
     "output_type": "stream",
     "text": [
      "[100, 10, 200, 20]\n"
     ]
    }
   ],
   "source": [
    "# get list of all the values present in the dictionary\n",
    "# Hint: dict.values()\n",
    "all_keys = list(fruit_counts.values())\n",
    "print(all_keys)"
   ]
  },
  {
   "cell_type": "code",
   "execution_count": 40,
   "metadata": {
    "executionInfo": {
     "elapsed": 4,
     "status": "ok",
     "timestamp": 1686416743012,
     "user": {
      "displayName": "Anish Thapaliya",
      "userId": "06325140887572930045"
     },
     "user_tz": -345
    },
    "id": "Et8VvGPhRRwb"
   },
   "outputs": [
    {
     "name": "stdout",
     "output_type": "stream",
     "text": [
      "[('mango', 100), ('banana', 10), ('orange', 200), ('kiwi', 20)]\n"
     ]
    }
   ],
   "source": [
    "# get list containing tuples of key-value pairs\n",
    "# Hint: dict.items()\n",
    "fruit_counts = {'mango': 100, 'banana': 10, 'orange': 200, 'kiwi': 20}\n",
    "key_values = list(fruit_counts.items())\n",
    "print(key_values)"
   ]
  },
  {
   "cell_type": "code",
   "execution_count": 41,
   "metadata": {
    "executionInfo": {
     "elapsed": 2,
     "status": "ok",
     "timestamp": 1686416792893,
     "user": {
      "displayName": "Anish Thapaliya",
      "userId": "06325140887572930045"
     },
     "user_tz": -345
    },
    "id": "l3qbewMhRVU8"
   },
   "outputs": [
    {
     "name": "stdout",
     "output_type": "stream",
     "text": [
      "{'mango': 30, 'banana': 10, 'orange': 200, 'kiwi': 20}\n"
     ]
    }
   ],
   "source": [
    "# add new item key = 'watermelon', value = 30\n",
    "# Hint: dict.update({key:value})\n",
    "fruit_counts = {'mango': 100, 'banana': 10, 'orange': 200, 'kiwi': 20}\n",
    "new_key = fruit_counts.update({'mango':30})\n",
    "print(fruit_counts)"
   ]
  },
  {
   "cell_type": "code",
   "execution_count": 58,
   "metadata": {
    "executionInfo": {
     "elapsed": 7,
     "status": "ok",
     "timestamp": 1686416977259,
     "user": {
      "displayName": "Anish Thapaliya",
      "userId": "06325140887572930045"
     },
     "user_tz": -345
    },
    "id": "pTv1RZ2KRhcf"
   },
   "outputs": [
    {
     "name": "stdout",
     "output_type": "stream",
     "text": [
      "{'banana': 10, 'orange': 200, 'kiwi': 20}\n"
     ]
    }
   ],
   "source": [
    "# remove new added items.\n",
    "# Hint: dict.pop(<key>)\n",
    "fruit_counts={'mango': 30, 'banana': 10, 'orange': 200, 'kiwi': 20}\n",
    "remove_value=fruit_counts.pop('mango')\n",
    "print(fruit_counts)"
   ]
  },
  {
   "cell_type": "markdown",
   "metadata": {
    "id": "9U1oIPylSd4L"
   },
   "source": [
    "**Other Methods:**\n",
    "\n",
    "| Method        | Description                                                       |\n",
    "|---------------|-------------------------------------------------------------------|\n",
    "| clear()       | Removes all the elements from the dictionary                       |\n",
    "| copy()        | Returns a copy of the dictionary                                   |\n",
    "| fromkeys()    | Returns a dictionary with the specified keys and value             |\n",
    "| get()         | Returns the value of the specified key                             |\n",
    "| items()       | Returns a list containing a tuple for each key value pair          |\n",
    "| keys()        | Returns a list containing the dictionary's keys                    |\n",
    "| pop()         | Removes the element with the specified key                         |\n",
    "| popitem()     | Removes the last inserted key-value pair                           |\n",
    "| setdefault()  | Returns the value of the specified key. If the key does not exist: insert the key, with the specified value |\n",
    "| update()      | Updates the dictionary with the specified key-value pairs          |\n",
    "| values()      | Returns a list of all the values in the dictionary                 |\n"
   ]
  },
  {
   "cell_type": "markdown",
   "metadata": {
    "id": "84qFY2o6Sm-f"
   },
   "source": [
    "### 5. Loop Dictionary\n",
    "- We can loop through a dictionary by using a `for` loop\n",
    "\n",
    "`Q1. Print all key names in the dictionary, one by one.`\n",
    "\n",
    "`Q2. Print all values in the dictionary one by one.`\n",
    "\n",
    "`Q3. Print all keys and values one by one, using items() method.`"
   ]
  },
  {
   "cell_type": "code",
   "execution_count": 63,
   "metadata": {
    "id": "MaCV0u_XSOeM"
   },
   "outputs": [
    {
     "name": "stdout",
     "output_type": "stream",
     "text": [
      "mango\n",
      "banana\n",
      "orange\n",
      "kiwi\n"
     ]
    }
   ],
   "source": [
    "# write your program here (for Q1)\n",
    "# Print all key names in the dictionary, one by one.\n",
    "fruit_counts={'mango': 30, 'banana': 10, 'orange': 200, 'kiwi': 20}\n",
    "\n",
    "for key in fruit_counts.keys():\n",
    "    print(key)"
   ]
  },
  {
   "cell_type": "code",
   "execution_count": 64,
   "metadata": {
    "id": "JhofY3qfTXdN"
   },
   "outputs": [
    {
     "name": "stdout",
     "output_type": "stream",
     "text": [
      "30\n",
      "10\n",
      "200\n",
      "20\n"
     ]
    }
   ],
   "source": [
    "# write your program here (for Q2)\n",
    "# Print all values in the dictionary one by one.\n",
    "for value in fruit_counts.values():\n",
    "  print(value)"
   ]
  },
  {
   "cell_type": "code",
   "execution_count": 70,
   "metadata": {
    "executionInfo": {
     "elapsed": 8,
     "status": "ok",
     "timestamp": 1686417308159,
     "user": {
      "displayName": "Anish Thapaliya",
      "userId": "06325140887572930045"
     },
     "user_tz": -345
    },
    "id": "dXYnbMVBTa5n"
   },
   "outputs": [
    {
     "name": "stdout",
     "output_type": "stream",
     "text": [
      "mango 30\n",
      "banana 10\n",
      "orange 200\n",
      "kiwi 20\n"
     ]
    }
   ],
   "source": [
    "# write your program here (for Q3)\n",
    "# Print all keys and values one by one, using items() method.\n",
    "fruit_counts={'mango': 30, 'banana': 10, 'orange': 200, 'kiwi': 20}\n",
    "items_list = list(fruit_counts.items())\n",
    "\n",
    "for key, value in items_list:\n",
    "    print(key,value)"
   ]
  },
  {
   "cell_type": "markdown",
   "metadata": {
    "id": "a8-Rs2suTgCA"
   },
   "source": [
    "### 5. Dictionary comprehension\n",
    "- Dictionary comprehension offers shortest syntax for looping.\n"
   ]
  },
  {
   "cell_type": "code",
   "execution_count": 20,
   "metadata": {
    "id": "uSSpu7ZfTfYn"
   },
   "outputs": [],
   "source": [
    "# write your program here\n",
    "\n",
    "# Sample list of questions\n",
    "questions = [\n",
    "    \"What is the capital of France?\",\n",
    "    \"Who wrote the play 'Romeo and Juliet'?\",\n",
    "    \"What is the symbol for the chemical element oxygen?\",\n",
    "    \"In which year did World War II end?\",\n",
    "    \"What is the tallest mammal on Earth?\",\n",
    "]\n",
    "\n",
    "# Sample list of corresponding answers\n",
    "answers = [\n",
    "    \"Paris\",\n",
    "    \"William Shakespeare\",\n",
    "    \"O\",\n",
    "    \"1945\",\n",
    "    \"Giraffe\",\n",
    "]"
   ]
  },
  {
   "cell_type": "code",
   "execution_count": null,
   "metadata": {},
   "outputs": [],
   "source": []
  }
 ],
 "metadata": {
  "colab": {
   "authorship_tag": "ABX9TyOakka6etVrgLo94ZJ1JHaN",
   "provenance": []
  },
  "kernelspec": {
   "display_name": "Python 3 (ipykernel)",
   "language": "python",
   "name": "python3"
  },
  "language_info": {
   "codemirror_mode": {
    "name": "ipython",
    "version": 3
   },
   "file_extension": ".py",
   "mimetype": "text/x-python",
   "name": "python",
   "nbconvert_exporter": "python",
   "pygments_lexer": "ipython3",
   "version": "3.11.5"
  }
 },
 "nbformat": 4,
 "nbformat_minor": 4
}
