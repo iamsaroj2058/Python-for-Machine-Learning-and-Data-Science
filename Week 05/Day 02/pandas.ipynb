{
 "cells": [
  {
   "cell_type": "code",
   "execution_count": 1,
   "metadata": {},
   "outputs": [],
   "source": [
    "import numpy as np\n",
    "import pandas as pd\n"
   ]
  },
  {
   "cell_type": "code",
   "execution_count": 2,
   "metadata": {},
   "outputs": [
    {
     "name": "stdout",
     "output_type": "stream",
     "text": [
      "<class 'pandas.core.series.Series'>\n"
     ]
    }
   ],
   "source": [
    "# create a series from python list\n",
    "# define list\n",
    "\n",
    "\n",
    "\n",
    "data = [10, 20, 30, 40]\n",
    "\n",
    "series_list = pd.Series(data)\n",
    "\n",
    "print(type(series_list))\n"
   ]
  },
  {
   "cell_type": "code",
   "execution_count": 3,
   "metadata": {},
   "outputs": [
    {
     "name": "stdout",
     "output_type": "stream",
     "text": [
      "<class 'pandas.core.series.Series'>\n"
     ]
    }
   ],
   "source": [
    "# create series from dictionary\n",
    "\n",
    "\n",
    "# Define the dictionary\n",
    "data_dict = {\n",
    "  'A': 10,\n",
    "  'B': 20,\n",
    "  'C': 30,\n",
    "  'D': 40\n",
    "  }\n",
    "\n",
    "# Create a Series from the dictionary\n",
    "series_dict = pd.Series(data_dict)\n",
    "\n",
    "# Print the Series\n",
    "print(type(series_dict))\n"
   ]
  },
  {
   "cell_type": "code",
   "execution_count": 4,
   "metadata": {},
   "outputs": [
    {
     "name": "stdout",
     "output_type": "stream",
     "text": [
      "0    10\n",
      "1    20\n",
      "2    30\n",
      "3    40\n",
      "dtype: int64\n",
      "1\n"
     ]
    }
   ],
   "source": [
    "\n",
    "\n",
    "#Create Numpy array\n",
    "numpy_array=np.array([10, 20, 30, 40])\n",
    "series_np=pd.Series(numpy_array)\n",
    "print(series_np)\n",
    "print(series_np.ndim)\n",
    "\n",
    "# Note:\n",
    "#  When creating series via list and numpy array.Series index label are automatically generated starting"
   ]
  },
  {
   "cell_type": "code",
   "execution_count": 5,
   "metadata": {},
   "outputs": [
    {
     "name": "stdout",
     "output_type": "stream",
     "text": [
      "   col1  col2\n",
      "0    10    20\n",
      "1    30    40\n",
      "2    50    60\n"
     ]
    }
   ],
   "source": [
    "# Create DataFrame from 2D list\n",
    "\n",
    "\n",
    "# Define the 2D list\n",
    "data = [[10, 20], [30, 40], [50, 60]]\n",
    "\n",
    "# Create a DataFrame from the 2D list\n",
    "df_list = pd.DataFrame(data, columns=['col1', 'col2'])\n",
    "\n",
    "# Print the DataFrame\n",
    "print(df_list)\n"
   ]
  },
  {
   "cell_type": "code",
   "execution_count": 6,
   "metadata": {},
   "outputs": [],
   "source": [
    "data_dict = {\n",
    "    'Name': ['Ram', 'Gita', 'Hari'],\n",
    "    'Age': [10, 25, 20]\n",
    "}"
   ]
  },
  {
   "cell_type": "code",
   "execution_count": 7,
   "metadata": {},
   "outputs": [
    {
     "name": "stdout",
     "output_type": "stream",
     "text": [
      "    Name  Age\n",
      "0  Saroj   22\n"
     ]
    }
   ],
   "source": [
    "import pandas as pd\n",
    "\n",
    "# Define the list of dictionaries\n",
    "list_of_dicts = [{'Name': 'Saroj', 'Age': 22}]\n",
    "\n",
    "# Create a DataFrame from the list of dictionaries\n",
    "df_list = pd.DataFrame(list_of_dicts)\n",
    "\n",
    "# Print the DataFrame\n",
    "print(df_list)\n"
   ]
  },
  {
   "cell_type": "code",
   "execution_count": 8,
   "metadata": {},
   "outputs": [
    {
     "name": "stdout",
     "output_type": "stream",
     "text": [
      "CSV file 'car_details.csv' has been successfully converted to Excel file 'car_details.xlsx'\n"
     ]
    }
   ],
   "source": [
    "data_path = \"/home/saroj/Desktop/Python for Machine Learning and Data Science/Week 05/Day 02/car_details.csv\"\n",
    "\n",
    "\n",
    "# Read the CSV file into a DataFrame\n",
    "df = pd.read_csv(\"car_details.csv\")\n",
    "\n",
    "# Convert DataFrame to Excel file\n",
    "excel_filename = \"car_details.xlsx\"\n",
    "df.to_excel(excel_filename, index=False)\n",
    "\n",
    "print(f\"CSV file 'car_details.csv' has been successfully converted to Excel file '{excel_filename}'\")\n",
    "\n"
   ]
  },
  {
   "cell_type": "code",
   "execution_count": null,
   "metadata": {},
   "outputs": [],
   "source": []
  }
 ],
 "metadata": {
  "kernelspec": {
   "display_name": "venv",
   "language": "python",
   "name": "python3"
  },
  "language_info": {
   "codemirror_mode": {
    "name": "ipython",
    "version": 3
   },
   "file_extension": ".py",
   "mimetype": "text/x-python",
   "name": "python",
   "nbconvert_exporter": "python",
   "pygments_lexer": "ipython3",
   "version": "3.11.5"
  }
 },
 "nbformat": 4,
 "nbformat_minor": 2
}
