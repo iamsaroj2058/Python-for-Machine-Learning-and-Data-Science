{
 "cells": [
  {
   "cell_type": "markdown",
   "metadata": {},
   "source": [
    "# Data frame from python dictonary"
   ]
  },
  {
   "cell_type": "code",
   "execution_count": 6,
   "metadata": {},
   "outputs": [
    {
     "name": "stdout",
     "output_type": "stream",
     "text": [
      "[('Saroj', 15, 'Dhikure'), ('Santosh', 16, 'Ktm'), ('Anish', 17, 'Bhaktapur')]\n"
     ]
    }
   ],
   "source": [
    "import pandas as pd\n",
    "\n",
    "# Create a dictionary with the attributes and descriptions\n",
    "Dictionary = {\n",
    "    'Description': ['Name', 'Age', 'Address']\n",
    "}\n",
    "\n",
    "dict_of_lists = {\n",
    "    'Name': ['Saroj', 'Santosh', 'Anish'],\n",
    "    'Age': ['15', '16', '17'],\n",
    "    'Address': ['Dhikure', 'Ktm', 'Bhaktapur']\n",
    "}\n",
    "\n",
    "list_of_dicts = [\n",
    "    {'Name': 'Saroj', 'Age': 15, 'Address': 'Dhikure'},\n",
    "    {'Name': 'Santosh', 'Age': 16, 'Address': 'Ktm'},\n",
    "    {'Name': 'Anish', 'Age': 17, 'Address': 'Bhaktapur'}\n",
    "]\n",
    "\n",
    "list_of_tuples = [\n",
    "    ('Saroj', 15, 'Dhikure'),\n",
    "    ('Santosh', 16, 'Ktm'),\n",
    "    ('Anish', 17, 'Bhaktapur')\n",
    "]\n",
    "\n",
    "list_of_lists = [\n",
    "    ['Saroj', '15', 'Dhikure'],\n",
    "    ['Santosh', '16', 'Ktm'],\n",
    "    ['Anish', '17', 'Bhaktapur']\n",
    "]\n",
    "print(list_of_tuples)\n"
   ]
  },
  {
   "cell_type": "markdown",
   "metadata": {},
   "source": [
    "#### Question:\n",
    "<li>Read 'weather_data.csv' file using csv reader.</li>\n",
    "<li>Store the data inside the csv file into a list of lists.</li>\n",
    "<li>Then create a pandas dataframe using list of list.</li>"
   ]
  },
  {
   "cell_type": "code",
   "execution_count": 22,
   "metadata": {},
   "outputs": [
    {
     "name": "stdout",
     "output_type": "stream",
     "text": [
      "          day    temperature     windspeed     event\n",
      "0    1/1/2017             32             6      Rain\n",
      "1    1/4/2017  not available             9     Sunny\n",
      "2    1/5/2017             -1  not measured      Snow\n",
      "3    1/6/2017  not available             7  no event\n",
      "4    1/7/2017             32  not measured      Rain\n",
      "5    1/8/2017  not available  not measured     Sunny\n",
      "6    1/9/2017  not available  not measured  no event\n",
      "7   1/10/2017             34             8    Cloudy\n",
      "8   1/11/2017             -4            -1      Snow\n",
      "9   1/12/2017             26            12     Sunny\n",
      "10  1/13/2017             12            12     Rainy\n",
      "11  1/11/2017             -1            12      Snow\n",
      "12  1/14/2017             40            -1     Sunny\n"
     ]
    }
   ],
   "source": [
    "# Read 'weather_data.csv' file using csv reader.\n",
    "import csv\n",
    "\n",
    "\n",
    "\n",
    "read = pd.read_csv('/home/saroj/Desktop/Python for Machine Learning and Data Science/Week 05/Day 04/Datas/weather_data - weather_data.csv',skiprows=2)\n",
    "\n",
    "print(read)\n"
   ]
  },
  {
   "cell_type": "code",
   "execution_count": 21,
   "metadata": {},
   "outputs": [
    {
     "name": "stdout",
     "output_type": "stream",
     "text": [
      "[['1/1/2017', '32', '6', 'Rain'], ['1/4/2017', 'not available', '9', 'Sunny'], ['1/5/2017', '-1', 'not measured', 'Snow'], ['1/6/2017', 'not available', '7', 'no event'], ['1/7/2017', '32', 'not measured', 'Rain'], ['1/8/2017', 'not available', 'not measured', 'Sunny'], ['1/9/2017', 'not available', 'not measured', 'no event'], ['1/10/2017', '34', '8', 'Cloudy'], ['1/11/2017', '-4', '-1', 'Snow'], ['1/12/2017', '26', '12', 'Sunny'], ['1/13/2017', '12', '12', 'Rainy'], ['1/11/2017', '-1', '12', 'Snow'], ['1/14/2017', '40', '-1', 'Sunny']]\n"
     ]
    }
   ],
   "source": [
    "\n",
    "# Store the data inside the csv file into a list of lists.\n",
    "\n",
    "\n",
    "\n",
    "list_of_lists = df.values.tolist()\n",
    "\n",
    "print(list_of_lists)\n"
   ]
  },
  {
   "cell_type": "code",
   "execution_count": 20,
   "metadata": {},
   "outputs": [
    {
     "name": "stdout",
     "output_type": "stream",
     "text": [
      "          day    temperature     windspeed     event\n",
      "0    1/1/2017             32             6      Rain\n",
      "1    1/4/2017  not available             9     Sunny\n",
      "2    1/5/2017             -1  not measured      Snow\n",
      "3    1/6/2017  not available             7  no event\n",
      "4    1/7/2017             32  not measured      Rain\n",
      "5    1/8/2017  not available  not measured     Sunny\n",
      "6    1/9/2017  not available  not measured  no event\n",
      "7   1/10/2017             34             8    Cloudy\n",
      "8   1/11/2017             -4            -1      Snow\n",
      "9   1/12/2017             26            12     Sunny\n",
      "10  1/13/2017             12            12     Rainy\n",
      "11  1/11/2017             -1            12      Snow\n",
      "12  1/14/2017             40            -1     Sunny\n"
     ]
    }
   ],
   "source": [
    "# Then create a pandas dataframe using list of list.\n",
    "new_dataframe = pd.DataFrame(list_of_lists, columns=df.columns)\n",
    "\n",
    "print(new_dataframe)\n"
   ]
  },
  {
   "cell_type": "markdown",
   "metadata": {},
   "source": [
    "#### Question\n",
    "<li>1. Read 'imports-85.data' file using file reader.</li>\n",
    "<li>2. Store the data present inside the file into a list of list.</li>\n",
    "<li>3. Create a pandas dataframe using list of lists.</li>\n",
    "<li>4. For column name, we can use the columns variable given below.</li>"
   ]
  },
  {
   "cell_type": "code",
   "execution_count": 29,
   "metadata": {},
   "outputs": [
    {
     "name": "stdout",
     "output_type": "stream",
     "text": [
      "[['3', '?', 'alfa-romero', 'gas', 'std', 'two', 'convertible', 'rwd', 'front', '88.60', '168.80', '64.10', '48.80', '2548', 'dohc', 'four', '130', 'mpfi', '3.47', '2.68', '9.00', '111', '5000', '21', '27', '13495'], ['3', '?', 'alfa-romero', 'gas', 'std', 'two', 'convertible', 'rwd', 'front', '88.60', '168.80', '64.10', '48.80', '2548', 'dohc', 'four', '130', 'mpfi', '3.47', '2.68', '9.00', '111', '5000', '21', '27', '16500'], ['1', '?', 'alfa-romero', 'gas', 'std', 'two', 'hatchback', 'rwd', 'front', '94.50', '171.20', '65.50', '52.40', '2823', 'ohcv', 'six', '152', 'mpfi', '2.68', '3.47', '9.00', '154', '5000', '19', '26', '16500'], ['2', '164', 'audi', 'gas', 'std', 'four', 'sedan', 'fwd', 'front', '99.80', '176.60', '66.20', '54.30', '2337', 'ohc', 'four', '109', 'mpfi', '3.19', '3.40', '10.00', '102', '5500', '24', '30', '13950'], ['2', '164', 'audi', 'gas', 'std', 'four', 'sedan', '4wd', 'front', '99.40', '176.60', '66.40', '54.30', '2824', 'ohc', 'five', '136', 'mpfi', '3.19', '3.40', '8.00', '115', '5500', '18', '22', '17450'], ['2', '?', 'audi', 'gas', 'std', 'two', 'sedan', 'fwd', 'front', '99.80', '177.30', '66.30', '53.10', '2507', 'ohc', 'five', '136', 'mpfi', '3.19', '3.40', '8.50', '110', '5500', '19', '25', '15250'], ['1', '158', 'audi', 'gas', 'std', 'four', 'sedan', 'fwd', 'front', '105.80', '192.70', '71.40', '55.70', '2844', 'ohc', 'five', '136', 'mpfi', '3.19', '3.40', '8.50', '110', '5500', '19', '25', '17710'], ['1', '?', 'audi', 'gas', 'std', 'four', 'wagon', 'fwd', 'front', '105.80', '192.70', '71.40', '55.70', '2954', 'ohc', 'five', '136', 'mpfi', '3.19', '3.40', '8.50', '110', '5500', '19', '25', '18920'], ['1', '158', 'audi', 'gas', 'turbo', 'four', 'sedan', 'fwd', 'front', '105.80', '192.70', '71.40', '55.90', '3086', 'ohc', 'five', '131', 'mpfi', '3.13', '3.40', '8.30', '140', '5500', '17', '20', '23875'], ['0', '?', 'audi', 'gas', 'turbo', 'two', 'hatchback', '4wd', 'front', '99.50', '178.20', '67.90', '52.00', '3053', 'ohc', 'five', '131', 'mpfi', '3.13', '3.40', '7.00', '160', '5500', '16', '22', '?'], ['2', '192', 'bmw', 'gas', 'std', 'two', 'sedan', 'rwd', 'front', '101.20', '176.80', '64.80', '54.30', '2395', 'ohc', 'four', '108', 'mpfi', '3.50', '2.80', '8.80', '101', '5800', '23', '29', '16430'], ['0', '192', 'bmw', 'gas', 'std', 'four', 'sedan', 'rwd', 'front', '101.20', '176.80', '64.80', '54.30', '2395', 'ohc', 'four', '108', 'mpfi', '3.50', '2.80', '8.80', '101', '5800', '23', '29', '16925'], ['0', '188', 'bmw', 'gas', 'std', 'two', 'sedan', 'rwd', 'front', '101.20', '176.80', '64.80', '54.30', '2710', 'ohc', 'six', '164', 'mpfi', '3.31', '3.19', '9.00', '121', '4250', '21', '28', '20970'], ['0', '188', 'bmw', 'gas', 'std', 'four', 'sedan', 'rwd', 'front', '101.20', '176.80', '64.80', '54.30', '2765', 'ohc', 'six', '164', 'mpfi', '3.31', '3.19', '9.00', '121', '4250', '21', '28', '21105'], ['1', '?', 'bmw', 'gas', 'std', 'four', 'sedan', 'rwd', 'front', '103.50', '189.00', '66.90', '55.70', '3055', 'ohc', 'six', '164', 'mpfi', '3.31', '3.19', '9.00', '121', '4250', '20', '25', '24565']]\n"
     ]
    }
   ],
   "source": [
    "#  Read 'imports-85.data' file using file reader.\n",
    "\n",
    "# Define the file path\n",
    "file_path = '/home/saroj/Desktop/Python for Machine Learning and Data Science/Week 05/Day 04/imports-85.data'\n",
    "\n",
    "\n",
    "# Step 1: Read 'imports-85.data' file using file reader\n",
    "data = []\n",
    "with open(file_path, 'r') as file:\n",
    "    for line in file:\n",
    "        data.append(line.strip().split(','))\n",
    "\n",
    "# Print the first few lines of data to verify\n",
    "print(data[:15])\n",
    "\n"
   ]
  },
  {
   "cell_type": "code",
   "execution_count": 30,
   "metadata": {},
   "outputs": [
    {
     "name": "stdout",
     "output_type": "stream",
     "text": [
      "    symboling normalized_losses         make fuel_type aspiration  \\\n",
      "0           3                 ?  alfa-romero       gas        std   \n",
      "1           3                 ?  alfa-romero       gas        std   \n",
      "2           1                 ?  alfa-romero       gas        std   \n",
      "3           2               164         audi       gas        std   \n",
      "4           2               164         audi       gas        std   \n",
      "..        ...               ...          ...       ...        ...   \n",
      "200        -1                95        volvo       gas        std   \n",
      "201        -1                95        volvo       gas      turbo   \n",
      "202        -1                95        volvo       gas        std   \n",
      "203        -1                95        volvo    diesel      turbo   \n",
      "204        -1                95        volvo       gas      turbo   \n",
      "\n",
      "    num_of_doors   body_style drive_wheels engine_location wheel_base  ...  \\\n",
      "0            two  convertible          rwd           front      88.60  ...   \n",
      "1            two  convertible          rwd           front      88.60  ...   \n",
      "2            two    hatchback          rwd           front      94.50  ...   \n",
      "3           four        sedan          fwd           front      99.80  ...   \n",
      "4           four        sedan          4wd           front      99.40  ...   \n",
      "..           ...          ...          ...             ...        ...  ...   \n",
      "200         four        sedan          rwd           front     109.10  ...   \n",
      "201         four        sedan          rwd           front     109.10  ...   \n",
      "202         four        sedan          rwd           front     109.10  ...   \n",
      "203         four        sedan          rwd           front     109.10  ...   \n",
      "204         four        sedan          rwd           front     109.10  ...   \n",
      "\n",
      "    engine_size fuel_system  bore stroke compression horsepower peak_rpm  \\\n",
      "0           130        mpfi  3.47   2.68        9.00        111     5000   \n",
      "1           130        mpfi  3.47   2.68        9.00        111     5000   \n",
      "2           152        mpfi  2.68   3.47        9.00        154     5000   \n",
      "3           109        mpfi  3.19   3.40       10.00        102     5500   \n",
      "4           136        mpfi  3.19   3.40        8.00        115     5500   \n",
      "..          ...         ...   ...    ...         ...        ...      ...   \n",
      "200         141        mpfi  3.78   3.15        9.50        114     5400   \n",
      "201         141        mpfi  3.78   3.15        8.70        160     5300   \n",
      "202         173        mpfi  3.58   2.87        8.80        134     5500   \n",
      "203         145         idi  3.01   3.40       23.00        106     4800   \n",
      "204         141        mpfi  3.78   3.15        9.50        114     5400   \n",
      "\n",
      "    city_mpg highway_mpg  price  \n",
      "0         21          27  13495  \n",
      "1         21          27  16500  \n",
      "2         19          26  16500  \n",
      "3         24          30  13950  \n",
      "4         18          22  17450  \n",
      "..       ...         ...    ...  \n",
      "200       23          28  16845  \n",
      "201       19          25  19045  \n",
      "202       18          23  21485  \n",
      "203       26          27  22470  \n",
      "204       19          25  22625  \n",
      "\n",
      "[205 rows x 26 columns]\n"
     ]
    }
   ],
   "source": [
    "import_columns = ['symboling', 'normalized_losses', 'make', 'fuel_type', 'aspiration', 'num_of_doors',\n",
    "          'body_style', 'drive_wheels', 'engine_location', 'wheel_base', 'length', 'width', \n",
    "           'height', 'curb_weight', 'engine_type', 'num_of_cylinders', 'engine_size', 'fuel_system',\n",
    "          'bore', 'stroke', 'compression', 'horsepower', 'peak_rpm', 'city_mpg', 'highway_mpg', \n",
    "           'price']\n",
    "\n",
    "# Step 2: Create a pandas DataFrame using the list of lists\n",
    "df = pd.DataFrame(data, columns=import_columns)\n",
    "\n",
    "# Print the DataFrame\n",
    "print(df)"
   ]
  },
  {
   "cell_type": "markdown",
   "metadata": {},
   "source": [
    "# Pandas dataFrame from CSV file"
   ]
  },
  {
   "cell_type": "code",
   "execution_count": 32,
   "metadata": {},
   "outputs": [
    {
     "data": {
      "text/html": [
       "<div>\n",
       "<style scoped>\n",
       "    .dataframe tbody tr th:only-of-type {\n",
       "        vertical-align: middle;\n",
       "    }\n",
       "\n",
       "    .dataframe tbody tr th {\n",
       "        vertical-align: top;\n",
       "    }\n",
       "\n",
       "    .dataframe thead th {\n",
       "        text-align: right;\n",
       "    }\n",
       "</style>\n",
       "<table border=\"1\" class=\"dataframe\">\n",
       "  <thead>\n",
       "    <tr style=\"text-align: right;\">\n",
       "      <th></th>\n",
       "      <th>day</th>\n",
       "      <th>temperature</th>\n",
       "      <th>windspeed</th>\n",
       "      <th>event</th>\n",
       "    </tr>\n",
       "  </thead>\n",
       "  <tbody>\n",
       "    <tr>\n",
       "      <th>0</th>\n",
       "      <td>1/1/2017</td>\n",
       "      <td>32</td>\n",
       "      <td>6</td>\n",
       "      <td>Rain</td>\n",
       "    </tr>\n",
       "    <tr>\n",
       "      <th>1</th>\n",
       "      <td>1/4/2017</td>\n",
       "      <td>not available</td>\n",
       "      <td>9</td>\n",
       "      <td>Sunny</td>\n",
       "    </tr>\n",
       "    <tr>\n",
       "      <th>2</th>\n",
       "      <td>1/5/2017</td>\n",
       "      <td>-1</td>\n",
       "      <td>not measured</td>\n",
       "      <td>Snow</td>\n",
       "    </tr>\n",
       "    <tr>\n",
       "      <th>3</th>\n",
       "      <td>1/6/2017</td>\n",
       "      <td>not available</td>\n",
       "      <td>7</td>\n",
       "      <td>no event</td>\n",
       "    </tr>\n",
       "    <tr>\n",
       "      <th>4</th>\n",
       "      <td>1/7/2017</td>\n",
       "      <td>32</td>\n",
       "      <td>not measured</td>\n",
       "      <td>Rain</td>\n",
       "    </tr>\n",
       "    <tr>\n",
       "      <th>5</th>\n",
       "      <td>1/8/2017</td>\n",
       "      <td>not available</td>\n",
       "      <td>not measured</td>\n",
       "      <td>Sunny</td>\n",
       "    </tr>\n",
       "    <tr>\n",
       "      <th>6</th>\n",
       "      <td>1/9/2017</td>\n",
       "      <td>not available</td>\n",
       "      <td>not measured</td>\n",
       "      <td>no event</td>\n",
       "    </tr>\n",
       "    <tr>\n",
       "      <th>7</th>\n",
       "      <td>1/10/2017</td>\n",
       "      <td>34</td>\n",
       "      <td>8</td>\n",
       "      <td>Cloudy</td>\n",
       "    </tr>\n",
       "    <tr>\n",
       "      <th>8</th>\n",
       "      <td>1/11/2017</td>\n",
       "      <td>-4</td>\n",
       "      <td>-1</td>\n",
       "      <td>Snow</td>\n",
       "    </tr>\n",
       "    <tr>\n",
       "      <th>9</th>\n",
       "      <td>1/12/2017</td>\n",
       "      <td>26</td>\n",
       "      <td>12</td>\n",
       "      <td>Sunny</td>\n",
       "    </tr>\n",
       "    <tr>\n",
       "      <th>10</th>\n",
       "      <td>1/13/2017</td>\n",
       "      <td>12</td>\n",
       "      <td>12</td>\n",
       "      <td>Rainy</td>\n",
       "    </tr>\n",
       "    <tr>\n",
       "      <th>11</th>\n",
       "      <td>1/11/2017</td>\n",
       "      <td>-1</td>\n",
       "      <td>12</td>\n",
       "      <td>Snow</td>\n",
       "    </tr>\n",
       "    <tr>\n",
       "      <th>12</th>\n",
       "      <td>1/14/2017</td>\n",
       "      <td>40</td>\n",
       "      <td>-1</td>\n",
       "      <td>Sunny</td>\n",
       "    </tr>\n",
       "  </tbody>\n",
       "</table>\n",
       "</div>"
      ],
      "text/plain": [
       "          day    temperature     windspeed     event\n",
       "0    1/1/2017             32             6      Rain\n",
       "1    1/4/2017  not available             9     Sunny\n",
       "2    1/5/2017             -1  not measured      Snow\n",
       "3    1/6/2017  not available             7  no event\n",
       "4    1/7/2017             32  not measured      Rain\n",
       "5    1/8/2017  not available  not measured     Sunny\n",
       "6    1/9/2017  not available  not measured  no event\n",
       "7   1/10/2017             34             8    Cloudy\n",
       "8   1/11/2017             -4            -1      Snow\n",
       "9   1/12/2017             26            12     Sunny\n",
       "10  1/13/2017             12            12     Rainy\n",
       "11  1/11/2017             -1            12      Snow\n",
       "12  1/14/2017             40            -1     Sunny"
      ]
     },
     "execution_count": 32,
     "metadata": {},
     "output_type": "execute_result"
    }
   ],
   "source": [
    "weather_df = pd.read_csv('/home/saroj/Desktop/Python for Machine Learning and Data Science/Week 05/Day 04/Datas/weather_data - weather_data.csv',skiprows=2)\n",
    "\n",
    "weather_df\n",
    "\n"
   ]
  }
 ],
 "metadata": {
  "kernelspec": {
   "display_name": "venv",
   "language": "python",
   "name": "python3"
  },
  "language_info": {
   "codemirror_mode": {
    "name": "ipython",
    "version": 3
   },
   "file_extension": ".py",
   "mimetype": "text/x-python",
   "name": "python",
   "nbconvert_exporter": "python",
   "pygments_lexer": "ipython3",
   "version": "3.11.5"
  }
 },
 "nbformat": 4,
 "nbformat_minor": 2
}
