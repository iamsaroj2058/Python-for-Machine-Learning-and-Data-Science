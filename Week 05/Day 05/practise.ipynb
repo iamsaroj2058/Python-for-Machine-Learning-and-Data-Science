{
 "cells": [
  {
   "cell_type": "markdown",
   "metadata": {},
   "source": [
    " ##   Importing  Excell data using read_csv()\n",
    "\n"
   ]
  },
  {
   "cell_type": "code",
   "execution_count": 8,
   "metadata": {},
   "outputs": [
    {
     "name": "stdout",
     "output_type": "stream",
     "text": [
      "     kfjkdfjskd     Unnamed: 1    Unnamed: 2 Unnamed: 3\n",
      "0   dfuhsdjufio            NaN           NaN        NaN\n",
      "1           day    temperature     windspeed      event\n",
      "2      1/1/2017             32             6       Rain\n",
      "3      1/4/2017  not available             9      Sunny\n",
      "4      1/5/2017             -1  not measured       Snow\n",
      "5      1/6/2017  not available             7   no event\n",
      "6      1/7/2017             32  not measured       Rain\n",
      "7      1/8/2017  not available  not measured      Sunny\n",
      "8      1/9/2017  not available  not measured   no event\n",
      "9     1/10/2017             34             8     Cloudy\n",
      "10    1/11/2017             -4            -1       Snow\n",
      "11    1/12/2017             26            12      Sunny\n",
      "12    1/13/2017             12            12      Rainy\n",
      "13    1/11/2017             -1            12       Snow\n",
      "14    1/14/2017             40            -1      Sunny\n"
     ]
    }
   ],
   "source": [
    "import numpy as np\n",
    "import pandas as pd\n",
    "\n",
    "data = pd.read_csv(\"/home/saroj/Desktop/Python for Machine Learning and Data Science/Week 05/Day 04/Datas/weather_data - weather_data.csv\")\n",
    "print(data)"
   ]
  }
 ],
 "metadata": {
  "kernelspec": {
   "display_name": "venv",
   "language": "python",
   "name": "python3"
  },
  "language_info": {
   "codemirror_mode": {
    "name": "ipython",
    "version": 3
   },
   "file_extension": ".py",
   "mimetype": "text/x-python",
   "name": "python",
   "nbconvert_exporter": "python",
   "pygments_lexer": "ipython3",
   "version": "3.11.5"
  }
 },
 "nbformat": 4,
 "nbformat_minor": 2
}
