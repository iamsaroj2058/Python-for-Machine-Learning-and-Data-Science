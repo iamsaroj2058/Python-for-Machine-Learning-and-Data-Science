{
 "cells": [
  {
   "cell_type": "markdown",
   "metadata": {},
   "source": [
    "- <li> let's plot graphs for four different equations using independent variables ranging from 100 to 200. Plot the graphs for Simple Linear Regression, Multiple Linear Regression, Simple Polynomial Regression (Degree 2), and Multiple Polynomial Regression (Degree 3)</li>\n",
    "\n",
    "- <li> Additionally, let's figure out how to obtain continuous values from the attached CSV files using you'll</li>\n",
    "\n",
    "- <li>For Position_Salaries.csv, you'll perform Simple Polynomial Regression (Degree 2) and Multiple Polynomial Regression (Degree 3).</li>\n",
    "- <li>For Salary_Data.csv, you'll conduct Simple Linear Regression.</li>\n",
    "- <li>For 50_Startups.csv, you'll employ Multiple Linear Regression.</li>"
   ]
  },
  {
   "cell_type": "code",
   "execution_count": null,
   "metadata": {},
   "outputs": [],
   "source": []
  }
 ],
 "metadata": {
  "kernelspec": {
   "display_name": "venv",
   "language": "python",
   "name": "python3"
  },
  "language_info": {
   "codemirror_mode": {
    "name": "ipython",
    "version": 3
   },
   "file_extension": ".py",
   "mimetype": "text/x-python",
   "name": "python",
   "nbconvert_exporter": "python",
   "pygments_lexer": "ipython3",
   "version": "3.11.5"
  }
 },
 "nbformat": 4,
 "nbformat_minor": 2
}
